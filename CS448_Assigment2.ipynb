{
 "cells": [
  {
   "cell_type": "markdown",
   "metadata": {},
   "source": [
    "<a href=\"https://colab.research.google.com/github/linxunshan/CS448_Assignment_2/blob/main/CS448_Assigment2.ipynb#scrollTo=_rQ_5OGxw-zY\" target=\"_parent\"><img src=\"https://colab.research.google.com/assets/colab-badge.svg\" alt=\"Open In Colab\"/></a>"
   ]
  },
  {
   "cell_type": "markdown",
   "metadata": {},
   "source": [
    "# CS448 Assignment 2"
   ]
  },
  {
   "cell_type": "markdown",
   "metadata": {},
   "source": [
    "Hello everyone! This is one of my jupyter notebook from CS301."
   ]
  },
  {
   "cell_type": "markdown",
   "metadata": {},
   "source": [
    "## Abstract"
   ]
  },
  {
   "cell_type": "markdown",
   "metadata": {},
   "source": [
    "This jupyter notebook is calculating the Taylor polynomials centered at 0, for cos x for the following 4 values of x![w1.png](./w1.png) which is equivalent to j/10, for j=1,2,3,4."
   ]
  },
  {
   "cell_type": "markdown",
   "metadata": {},
   "source": [
    "\n",
    "Then For each value of j, find the smallest integer such that\n",
    "![w2.png](./w2.png)\n",
    "\n",
    "Also, there is a data anlysis for the error in the end of notebook. If you are interested in it, you can have a look!"
   ]
  },
  {
   "cell_type": "markdown",
   "metadata": {},
   "source": [
    "### Setup and Imports"
   ]
  },
  {
   "cell_type": "markdown",
   "metadata": {},
   "source": [
    "In order to run this notebook live you will need to make sure the following modules are installed on your machine:  \n",
    "    1.math  \n",
    "    2.numpy  \n",
    "    3.pandas  \n",
    "    4.sympy  \n",
    "   \n",
    "You can see the import section below:"
   ]
  },
  {
   "cell_type": "code",
   "execution_count": 1,
   "metadata": {},
   "outputs": [],
   "source": [
    "import math\n",
    "import numpy as np\n",
    "import pandas as pd"
   ]
  },
  {
   "cell_type": "markdown",
   "metadata": {},
   "source": [
    "### function for calculating taylor sum"
   ]
  },
  {
   "cell_type": "markdown",
   "metadata": {},
   "source": [
    "This is the function for calculating taylor sum, so in order to get Tn(x), we use this function."
   ]
  },
  {
   "cell_type": "code",
   "execution_count": 2,
   "metadata": {},
   "outputs": [],
   "source": [
    "def taylor_cos(x,n):\n",
    "\n",
    "    cos_sum = 0\n",
    "    for n in range(0, n+1):\n",
    "        cos_sum += (math.pow(-1, n)/math.factorial(2*n)) * math.pow(x,(2*n))\n",
    "    return cos_sum"
   ]
  },
  {
   "cell_type": "markdown",
   "metadata": {},
   "source": [
    "### function for getting the value of smallest n"
   ]
  },
  {
   "cell_type": "markdown",
   "metadata": {},
   "source": [
    "This code is actually getting ![w2.png](attachment:./w2.png)\n",
    "\n",
    "Use the combination of function for calculating taylor sum and this function, we will find out, the smallest term of n, when error is less than 10^-12"
   ]
  },
  {
   "cell_type": "code",
   "execution_count": 70,
   "metadata": {
    "scrolled": false
   },
   "outputs": [
    {
     "name": "stdout",
     "output_type": "stream",
     "text": [
      "j=1 | n=3 | Approximated Sum = 0.9950041652777778 | Actual Sum= 0.9950041652780258 | Error = 2.4802382370125997e-13\n",
      "\n",
      "--------------------------------------------------------------------------------------------------------------------\n",
      "j=2 | n=4 | Approximated Sum = 0.9800665778412698 | Actual Sum= 0.9800665778412416 | Error = 2.8199664825478976e-14\n",
      "\n",
      "--------------------------------------------------------------------------------------------------------------------\n",
      "j=3 | n=5 | Approximated Sum = 0.9553364891256049 | Actual Sum= 0.955336489125606 | Error = 1.1102230246251565e-15\n",
      "\n",
      "--------------------------------------------------------------------------------------------------------------------\n",
      "j=4 | n=5 | Approximated Sum = 0.92106099400285 | Actual Sum= 0.9210609940028851 | Error = 3.5083047578154947e-14\n",
      "\n",
      "--------------------------------------------------------------------------------------------------------------------\n"
     ]
    }
   ],
   "source": [
    "\n",
    "def taylor_small_n():\n",
    "    for j in range(1,5):\n",
    "        n=0\n",
    "        True_Value = np.cos(j/10)\n",
    "        while True:\n",
    "            Estimated_Sum = taylor_cos(j/10, n)\n",
    "            abs_Err = abs(Estimated_Sum - True_Value)\n",
    "            if (abs_Err < math.pow(10,-12)):\n",
    "                print(\"j={} | n={} | Approximated Sum = {} | Actual Sum= {} | Error = {}\".format(j, n, Estimated_Sum, True_Value, abs_Err))\n",
    "                print (\"\")\n",
    "                print('--------------------------------------------------------------------------------------------------------------------')\n",
    "                break\n",
    "            n+=1\n",
    "\n",
    "taylor_small_n()\n",
    "\n",
    "\n"
   ]
  },
  {
   "cell_type": "markdown",
   "metadata": {},
   "source": [
    "### error bound calculation"
   ]
  },
  {
   "cell_type": "markdown",
   "metadata": {},
   "source": [
    "After getting smallest n above, we should find out error bound for cos x in this section"
   ]
  },
  {
   "cell_type": "code",
   "execution_count": 4,
   "metadata": {},
   "outputs": [
    {
     "name": "stdout",
     "output_type": "stream",
     "text": [
      "j= 1 n= 3\n",
      "error_bound= 4.14585068865844e-6\n",
      "j= 2 n= 4\n",
      "error_bound= 1.65557775662551e-8\n",
      "j= 3 n= 5\n",
      "error_bound= 1.32685623489668e-9\n",
      "j= 4 n= 5\n",
      "error_bound= 1.27925138055956e-9\n"
     ]
    }
   ],
   "source": [
    "from sympy import diff, cos,evalf\n",
    "from sympy.abc import x\n",
    "\n",
    "array =[(1,3),(2,4),(3,5),(4,5)]\n",
    "for j,n in array:\n",
    "    print('j=',j,'n=',n)\n",
    "    M=diff(cos(x), x, n+1 )\n",
    "    m = M.evalf(subs={x:j/10})\n",
    "    error_bound = abs((m/math.factorial(n+1)) * math.pow(0.1,(n+1)))\n",
    "    print('error_bound=',error_bound)\n"
   ]
  },
  {
   "cell_type": "markdown",
   "metadata": {},
   "source": [
    "### Using pandas to make a clear table, so can compare data clearly."
   ]
  },
  {
   "cell_type": "markdown",
   "metadata": {},
   "source": [
    "Pandas is very useful in making tables, I will recommand it!"
   ]
  },
  {
   "cell_type": "code",
   "execution_count": 68,
   "metadata": {},
   "outputs": [
    {
     "data": {
      "text/html": [
       "<style  type=\"text/css\" >\n",
       "</style><table id=\"T_68eddf76_879d_11eb_964b_f82819a0e41e\" ><thead>    <tr>        <th class=\"col_heading level0 col0\" >value of x</th>        <th class=\"col_heading level0 col1\" >smallest n</th>        <th class=\"col_heading level0 col2\" >Taylor sum T(x)</th>        <th class=\"col_heading level0 col3\" >Actual value of cos(x)</th>        <th class=\"col_heading level0 col4\" >Absolute Error</th>        <th class=\"col_heading level0 col5\" >Error Bound</th>    </tr></thead><tbody>\n",
       "                <tr>\n",
       "                                <td id=\"T_68eddf76_879d_11eb_964b_f82819a0e41erow0_col0\" class=\"data row0 col0\" >1/10</td>\n",
       "                        <td id=\"T_68eddf76_879d_11eb_964b_f82819a0e41erow0_col1\" class=\"data row0 col1\" >3</td>\n",
       "                        <td id=\"T_68eddf76_879d_11eb_964b_f82819a0e41erow0_col2\" class=\"data row0 col2\" >0.9950041652777778</td>\n",
       "                        <td id=\"T_68eddf76_879d_11eb_964b_f82819a0e41erow0_col3\" class=\"data row0 col3\" >0.9950041652780258</td>\n",
       "                        <td id=\"T_68eddf76_879d_11eb_964b_f82819a0e41erow0_col4\" class=\"data row0 col4\" >2.4802382370125997e-13</td>\n",
       "                        <td id=\"T_68eddf76_879d_11eb_964b_f82819a0e41erow0_col5\" class=\"data row0 col5\" >4.14585068865844e-6</td>\n",
       "            </tr>\n",
       "            <tr>\n",
       "                                <td id=\"T_68eddf76_879d_11eb_964b_f82819a0e41erow1_col0\" class=\"data row1 col0\" >2/10</td>\n",
       "                        <td id=\"T_68eddf76_879d_11eb_964b_f82819a0e41erow1_col1\" class=\"data row1 col1\" >4</td>\n",
       "                        <td id=\"T_68eddf76_879d_11eb_964b_f82819a0e41erow1_col2\" class=\"data row1 col2\" >0.9800665778412698</td>\n",
       "                        <td id=\"T_68eddf76_879d_11eb_964b_f82819a0e41erow1_col3\" class=\"data row1 col3\" >0.9800665778412416</td>\n",
       "                        <td id=\"T_68eddf76_879d_11eb_964b_f82819a0e41erow1_col4\" class=\"data row1 col4\" >2.8199664825478976e-14</td>\n",
       "                        <td id=\"T_68eddf76_879d_11eb_964b_f82819a0e41erow1_col5\" class=\"data row1 col5\" >1.65557775662551e-8</td>\n",
       "            </tr>\n",
       "            <tr>\n",
       "                                <td id=\"T_68eddf76_879d_11eb_964b_f82819a0e41erow2_col0\" class=\"data row2 col0\" >3/10</td>\n",
       "                        <td id=\"T_68eddf76_879d_11eb_964b_f82819a0e41erow2_col1\" class=\"data row2 col1\" >5</td>\n",
       "                        <td id=\"T_68eddf76_879d_11eb_964b_f82819a0e41erow2_col2\" class=\"data row2 col2\" >0.9553364891256049</td>\n",
       "                        <td id=\"T_68eddf76_879d_11eb_964b_f82819a0e41erow2_col3\" class=\"data row2 col3\" >0.955336489125606</td>\n",
       "                        <td id=\"T_68eddf76_879d_11eb_964b_f82819a0e41erow2_col4\" class=\"data row2 col4\" >1.1102230246251565e-15</td>\n",
       "                        <td id=\"T_68eddf76_879d_11eb_964b_f82819a0e41erow2_col5\" class=\"data row2 col5\" >1.32685623489668e-9</td>\n",
       "            </tr>\n",
       "            <tr>\n",
       "                                <td id=\"T_68eddf76_879d_11eb_964b_f82819a0e41erow3_col0\" class=\"data row3 col0\" >4/10</td>\n",
       "                        <td id=\"T_68eddf76_879d_11eb_964b_f82819a0e41erow3_col1\" class=\"data row3 col1\" >5</td>\n",
       "                        <td id=\"T_68eddf76_879d_11eb_964b_f82819a0e41erow3_col2\" class=\"data row3 col2\" >0.92106099400285</td>\n",
       "                        <td id=\"T_68eddf76_879d_11eb_964b_f82819a0e41erow3_col3\" class=\"data row3 col3\" >0.9210609940028851</td>\n",
       "                        <td id=\"T_68eddf76_879d_11eb_964b_f82819a0e41erow3_col4\" class=\"data row3 col4\" >3.5083047578154947e-14</td>\n",
       "                        <td id=\"T_68eddf76_879d_11eb_964b_f82819a0e41erow3_col5\" class=\"data row3 col5\" >1.27925138055956e-9</td>\n",
       "            </tr>\n",
       "    </tbody></table>"
      ],
      "text/plain": [
       "<pandas.io.formats.style.Styler at 0x1a80cf80be0>"
      ]
     },
     "execution_count": 68,
     "metadata": {},
     "output_type": "execute_result"
    }
   ],
   "source": [
    "import pandas as pd\n",
    "table = [\n",
    "    ['1/10','3' ,'0.9950041652777778', '0.9950041652780258', '2.4802382370125997e-13','4.14585068865844e-6' ],\n",
    "    ['2/10','4' ,'0.9800665778412698', '0.9800665778412416', '2.8199664825478976e-14', '1.65557775662551e-8' ],\n",
    "    ['3/10','5' ,'0.9553364891256049', '0.955336489125606', '1.1102230246251565e-15','1.32685623489668e-9' ],\n",
    "    ['4/10','5' ,'0.92106099400285', '0.9210609940028851', '3.5083047578154947e-14','1.27925138055956e-9'  ]]\n",
    "pd.set_option('display.float_format', str)\n",
    "df = pd.DataFrame(table, columns=['value of x','smallest n', 'Taylor sum T(x)', 'Actual value of cos(x)', 'Absolute Error', 'Error Bound'])\n",
    "df.style.hide_index()"
   ]
  },
  {
   "cell_type": "markdown",
   "metadata": {},
   "source": [
    "### Analysis and discussion about the data"
   ]
  },
  {
   "cell_type": "markdown",
   "metadata": {},
   "source": [
    "This assignment we should calculate the Taylor polynomials centered at 0 for f = cos(x). \n",
    "For each x = { 1/10, 2/10, 3/10, 4/10 }, the values of n I got from my function were {3, 4, 5, 5}.\n",
    "So, it means for x= 1/10, we should calculate the sum of first 3 terms for the cos taylor polynomials in order to get\n",
    "the absolute error is less than 10^-12. And the sum of first 4 terms for x = 2/10, the sum of first 5 terms for x = 3/10,\n",
    "and lastly, the sum of first 5 terms for x = 4/10.\n",
    "\n",
    "That's look deeper into data I calculated for Taylor sum and actual value of cos(x). For x= 1/10, we can see the difference \n",
    "appeared after 11 digits, it's close to 10^-12, however, it might be more accurate. For x=2/10, we noticed the difference \n",
    "appeared after 13 digits. Then x=3/10, it's after 14 digits, and x=4/10, it's also after 14 digits. so, once we do\n",
    "subtraction between taylor sum and actual value, it turns out the absolute error which is also the remainder term is less than\n",
    "10^-12! It fits to the absolute error!\n",
    "\n",
    "The last but not least, I also calculate the error bound for each x=j/10 with my code. I use the formula from class \n",
    "presentation. Compare to the absolute error, error bound is much more greater than the absolute error. For x=1/10, \n",
    "error bound is 4.14585068865844e-6, but absolute is only 2.4802382370125997e-13. For x=2/10, error bound is \n",
    "1.65557775662551e-8, it's getting smaller, however, absolute error is only 2.8199664825478976e-14. For x=3/10, and x=4/10, \n",
    "error bound is sitll greater than the absolute error(remainder term Rn(x)). In conclusion, compare to the error bounds for \n",
    "Taylor polynomials that we discussed in class, the formula Rn(x) <= error bound, it exactly fits with my data. The errors \n",
    "match up the expressions in the class presentation slides.\n"
   ]
  },
  {
   "cell_type": "markdown",
   "metadata": {},
   "source": [
    "# Interesting AI memes"
   ]
  },
  {
   "cell_type": "markdown",
   "metadata": {},
   "source": [
    "![aimeme1.png](./aimeme1.png)"
   ]
  },
  {
   "cell_type": "markdown",
   "metadata": {},
   "source": [
    "![aimeme2.png](./aimeme2.png)"
   ]
  },
  {
   "cell_type": "markdown",
   "metadata": {},
   "source": [
    "![aimem3.png](./aimeme3.png)"
   ]
  }
 ],
 "metadata": {
  "kernelspec": {
   "display_name": "Python 3",
   "language": "python",
   "name": "python3"
  },
  "language_info": {
   "codemirror_mode": {
    "name": "ipython",
    "version": 3
   },
   "file_extension": ".py",
   "mimetype": "text/x-python",
   "name": "python",
   "nbconvert_exporter": "python",
   "pygments_lexer": "ipython3",
   "version": "3.8.3"
  }
 },
 "nbformat": 4,
 "nbformat_minor": 4
}
